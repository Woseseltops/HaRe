{
 "cells": [
  {
   "cell_type": "markdown",
   "metadata": {},
   "source": [
    "HaRe\n",
    "====\n",
    "\n",
    "HaRe (Harassment Recognizer) is a command line tool and Python library to automatically detect harassment as it happens (real-time) with the help of machine learning techniques. In this notebook we will look at the Python library.\n",
    "\n",
    "Basic usage: monitoring conversations\n",
    "--------------------------------------------------------\n",
    "\n",
    "The easiest way to use HaRe is by simply loading a pretrained HaRe model included with this repo in the models folder:"
   ]
  },
  {
   "cell_type": "code",
   "execution_count": 1,
   "metadata": {},
   "outputs": [],
   "source": [
    "#from hare import load_pretrained\n",
    "#moba_hare = load_pretrained('hare/pretrained/simple')\n",
    "\n",
    "from hare import Hare\n",
    "from hare.brain import DictBasedBrain\n",
    "\n",
    "moba_hare = Hare()\n",
    "moba_hare.brain = DictBasedBrain()\n",
    "moba_hare.brain.bad_words = ['noob','newb','n00b','fag','loser']"
   ]
  },
  {
   "cell_type": "markdown",
   "metadata": {},
   "source": [
    "You can then use this object to monitor conversations in progress. Let's start a conversation and ask HaRe to monitor it:"
   ]
  },
  {
   "cell_type": "code",
   "execution_count": 2,
   "metadata": {},
   "outputs": [],
   "source": [
    "from hare import Conversation\n",
    "\n",
    "convo = Conversation()\n",
    "moba_hare.add_conversation(convo)"
   ]
  },
  {
   "cell_type": "markdown",
   "metadata": {},
   "source": [
    "At any point in time, you can then request the current status of the conversation according to this HaRe model:"
   ]
  },
  {
   "cell_type": "code",
   "execution_count": 3,
   "metadata": {},
   "outputs": [
    {
     "data": {
      "text/plain": [
       "{'a': 0.0, 'b': 0.0}"
      ]
     },
     "execution_count": 3,
     "metadata": {},
     "output_type": "execute_result"
    }
   ],
   "source": [
    "convo.add_utterance(speaker='a',content='hello')\n",
    "convo.add_utterance(speaker='b',content='hi everyone')\n",
    "moba_hare.get_status()"
   ]
  },
  {
   "cell_type": "markdown",
   "metadata": {},
   "source": [
    "You can also add multiple sentences at once (for example a whole conversation if it has already finished), and see what HaRe's best guess was at every moment in time."
   ]
  },
  {
   "cell_type": "code",
   "execution_count": 4,
   "metadata": {},
   "outputs": [
    {
     "name": "stdout",
     "output_type": "stream",
     "text": [
      "a: hello\n",
      "{'a': 0.0}\n",
      "---\n",
      "\n",
      "b: hi everyone\n",
      "{'a': 0.0, 'b': 0.0}\n",
      "---\n",
      "\n",
      "a: good luck\n",
      "{'a': 0.0, 'b': 0.0}\n",
      "---\n",
      "\n",
      "c: ur all n00bs\n",
      "{'a': 0.0, 'b': 0.0, 'c': 0.25}\n",
      "---\n",
      "\n",
      "b: u are a loser yourself\n",
      "{'a': 0.0, 'b': 0.25, 'c': 0.25}\n",
      "---\n",
      "\n",
      "a: take it easy guys\n",
      "{'a': 0.0, 'b': 0.25, 'c': 0.25}\n",
      "---\n",
      "\n",
      "c: n00b\n",
      "{'a': 0.0, 'b': 0.25, 'c': 0.5}\n",
      "---\n",
      "\n"
     ]
    }
   ],
   "source": [
    "from hare import Utterance\n",
    "\n",
    "convo.add_utterances([Utterance(speaker='a',content='good luck'),\n",
    "                      Utterance(speaker='c',content='ur all n00bs'),\n",
    "                      Utterance(speaker='b',content='u are a loser yourself'),\n",
    "                      Utterance(speaker='a',content='take it easy guys'),\n",
    "                      Utterance(speaker='c',content='n00b')])\n",
    "\n",
    "moba_hare.visualize_history_for_conversation()"
   ]
  },
  {
   "cell_type": "markdown",
   "metadata": {},
   "source": [
    "Or in a graph:"
   ]
  },
  {
   "cell_type": "code",
   "execution_count": 5,
   "metadata": {},
   "outputs": [
    {
     "data": {
      "image/png": "[encoded data removed]",
      "text/plain": [
       "<Figure size 432x288 with 1 Axes>"
      ]
     },
     "metadata": {
      "needs_background": "light"
     },
     "output_type": "display_data"
    }
   ],
   "source": [
    "%matplotlib inline\n",
    "\n",
    "from hare.visualize import visualize_toxicity_for_one_conversation\n",
    "    \n",
    "visualize_toxicity_for_one_conversation(moba_hare)"
   ]
  },
  {
   "cell_type": "markdown",
   "metadata": {},
   "source": [
    "If you add multiple conversations for Hare to monitor, you will need to specify the conversation index when asking for the status:"
   ]
  },
  {
   "cell_type": "code",
   "execution_count": 6,
   "metadata": {},
   "outputs": [
    {
     "data": {
      "text/plain": [
       "{'a': 0.25, 'b': 0.0}"
      ]
     },
     "execution_count": 6,
     "metadata": {},
     "output_type": "execute_result"
    }
   ],
   "source": [
    "second_convo = Conversation()\n",
    "\n",
    "second_convo.add_utterance(speaker='a',content='hello')\n",
    "second_convo.add_utterance(speaker='b',content='hi everyone')\n",
    "second_convo.add_utterance(speaker='a',content='go away loser!')\n",
    "\n",
    "moba_hare.add_conversation(second_convo)\n",
    "moba_hare.get_status(id=1)"
   ]
  },
  {
   "cell_type": "markdown",
   "metadata": {},
   "source": [
    "Evaluating \n",
    "----------\n",
    "If you have a labeled dataset (that is: for each conversation an indication which participants are considered toxic), HaRe can calculate to what extent its judgments match the labels. A label can range from the default 0 (not toxic at all) to 1 (maximally toxic). Let's label speaker c:"
   ]
  },
  {
   "cell_type": "code",
   "execution_count": 7,
   "metadata": {},
   "outputs": [],
   "source": [
    "convo.label_speaker('c',1)\n",
    "second_convo.label_speaker('a',0.9)"
   ]
  },
  {
   "cell_type": "markdown",
   "metadata": {},
   "source": [
    "There are several evaluation metrics, depending on what is important to you (detecting ALL harassment, detecting harassment quickly, no false positives, etc). You can ask a HaRe object to output these aggregate scores directly, but we can also visualize them similar to how we visualized the estimates for a single conversation above. You can for example use these metrics to find out which HaRe object suits your goals best. \n",
    "\n",
    "Below we create two simple Hare objects that identify toxicity based on word lists."
   ]
  },
  {
   "cell_type": "code",
   "execution_count": 8,
   "metadata": {},
   "outputs": [],
   "source": [
    "from hare import Hare\n",
    "from hare.brain import DictBasedBrain\n",
    "\n",
    "insult_hare = Hare(name='insults')\n",
    "insult_hare.brain = DictBasedBrain()\n",
    "insult_hare.brain.bad_words = ['noob','newb','n00b','fag','loser']\n",
    "\n",
    "swear_hare = Hare(name='swear_words')\n",
    "swear_hare.brain = DictBasedBrain()\n",
    "swear_hare.brain.bad_words = ['fuck','fck','fuk','shit','stfu','wtf','suck']"
   ]
  },
  {
   "cell_type": "markdown",
   "metadata": {},
   "source": [
    "HaRe comes with ten fictional example conversations that are typical for a videogame environment. Let's give these to our two Hare objects to monitor."
   ]
  },
  {
   "cell_type": "code",
   "execution_count": 9,
   "metadata": {},
   "outputs": [
    {
     "name": "stdout",
     "output_type": "stream",
     "text": [
      "Loaded 8 conversations\n"
     ]
    }
   ],
   "source": [
    "from hare import load_example_conversations\n",
    "\n",
    "example_conversations = load_example_conversations()\n",
    "print('Loaded',len(example_conversations),'conversations')\n",
    "\n",
    "for conversation in example_conversations:\n",
    "    insult_hare.add_conversation(conversation)\n",
    "    swear_hare.add_conversation(conversation)"
   ]
  },
  {
   "cell_type": "markdown",
   "metadata": {},
   "source": [
    "Now we have multiple labeled conversations and HaRe objects to analyze them, let's visualize how they perform:"
   ]
  },
  {
   "cell_type": "code",
   "execution_count": 10,
   "metadata": {},
   "outputs": [
    {
     "data": {
      "image/png": "[encoded data removed]",
      "text/plain": [
       "<Figure size 432x288 with 1 Axes>"
      ]
     },
     "metadata": {
      "needs_background": "light"
     },
     "output_type": "display_data"
    },
    {
     "data": {
      "image/png": "[encoded data removed]",
      "text/plain": [
       "<Figure size 432x288 with 1 Axes>"
      ]
     },
     "metadata": {
      "needs_background": "light"
     },
     "output_type": "display_data"
    }
   ],
   "source": [
    "%matplotlib inline\n",
    "\n",
    "%load_ext autoreload\n",
    "%autoreload\n",
    "\n",
    "from hare.visualize import visualize_accuracy_during_conversations, visualize_auc_during_conversations, visualize_fscore_during_conversations\n",
    "\n",
    "visualize_auc_during_conversations([insult_hare,swear_hare])\n",
    "visualize_fscore_during_conversations([insult_hare,swear_hare])"
   ]
  },
  {
   "cell_type": "markdown",
   "metadata": {},
   "source": [
    "As expected, we see that the estimates are poor in the beginning of conversations, when there is almost no information, and that this gradually gets better as more people speak. Also note that scores can go down again over time, as more utterances also are more potential causes for confusion.\n",
    "\n",
    "If you are only interested in how well this HaRe object is identifying toxic behavior afterwards, we can visualize scores over different thresholds; that is, how does it do when it focuses on preventing missing toxic speakers versus when it focuses on preventing false alarms."
   ]
  },
  {
   "cell_type": "code",
   "execution_count": 11,
   "metadata": {},
   "outputs": [
    {
     "data": {
      "image/png": "[encoded data removed]",
      "text/plain": [
       "<Figure size 432x288 with 1 Axes>"
      ]
     },
     "metadata": {
      "needs_background": "light"
     },
     "output_type": "display_data"
    },
    {
     "data": {
      "image/png": "[encoded data removed]",
      "text/plain": [
       "<Figure size 432x288 with 1 Axes>"
      ]
     },
     "metadata": {
      "needs_background": "light"
     },
     "output_type": "display_data"
    }
   ],
   "source": [
    "%matplotlib inline\n",
    "\n",
    "from hare.visualize import visualize_retrospective_precision_and_recall, visualize_retrospective_roc_curve\n",
    "\n",
    "visualize_retrospective_precision_and_recall([insult_hare,swear_hare])\n",
    "visualize_retrospective_roc_curve([insult_hare,swear_hare])"
   ]
  },
  {
   "cell_type": "markdown",
   "metadata": {},
   "source": [
    "Training\n",
    "======="
   ]
  },
  {
   "cell_type": "markdown",
   "metadata": {},
   "source": [
    "If the existing pretrained models do not score high enough on your conversations, you can use train your own models. Before you cand do this, you need to select a 'brain', which is the classification algorithm HaRe will use under the hood. At the moment, neural networks with Bidirectional Gated Recurrent Units are popular for text classification, so we will use the `BiGruBrain`. This 'brain' uses the implementation in TensorFlow."
   ]
  },
  {
   "cell_type": "code",
   "execution_count": 12,
   "metadata": {},
   "outputs": [],
   "source": [
    "from hare import Hare\n",
    "from hare.bigrubrain import BiGruBrain\n",
    "\n",
    "custom_hare = Hare()\n",
    "custom_hare.brain = BiGruBrain()"
   ]
  },
  {
   "cell_type": "markdown",
   "metadata": {},
   "source": [
    "An interesting option for BiGruBrains (and potentially others) is that they allow you to add word embeddings, which you can see as general knowledge on the meaning of words, collected from large amounts of texts (like Wikipedia)."
   ]
  },
  {
   "cell_type": "code",
   "execution_count": 13,
   "metadata": {},
   "outputs": [],
   "source": [
    "custom_hare.brain.embedding_location = '/vol/bigdata/word_embeddings/glove/glove.6B.50d.txt'"
   ]
  },
  {
   "cell_type": "markdown",
   "metadata": {},
   "source": [
    "Now, all we need to do is add the conversation we want to train on, and we're ready to start training."
   ]
  },
  {
   "cell_type": "code",
   "execution_count": 14,
   "metadata": {},
   "outputs": [
    {
     "name": "stdout",
     "output_type": "stream",
     "text": [
      "Epoch 1/3\n",
      "5/5 [==============================] - 2s 428ms/step - loss: 0.6731 - acc: 0.6000\n",
      "Epoch 2/3\n",
      "5/5 [==============================] - 0s 12ms/step - loss: 0.6230 - acc: 0.6000\n",
      "Epoch 3/3\n",
      "5/5 [==============================] - 0s 11ms/step - loss: 0.5951 - acc: 0.6000\n"
     ]
    }
   ],
   "source": [
    "custom_hare.add_conversation(convo)\n",
    "custom_hare.add_conversation(second_convo)\n",
    "\n",
    "custom_hare.train()\n",
    "custom_hare.save('name_of_folder')"
   ]
  }
 ],
 "metadata": {
  "kernelspec": {
   "display_name": "Python 3",
   "language": "python",
   "name": "python3"
  },
  "language_info": {
   "codemirror_mode": {
    "name": "ipython",
    "version": 3
   },
   "file_extension": ".py",
   "mimetype": "text/x-python",
   "name": "python",
   "nbconvert_exporter": "python",
   "pygments_lexer": "ipython3",
   "version": "3.6.0"
  }
 },
 "nbformat": 4,
 "nbformat_minor": 2
}
